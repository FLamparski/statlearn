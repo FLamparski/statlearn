{
 "metadata": {
  "name": "",
  "signature": "sha256:199a784d9df01c4b4771d3c1c916f3d5f922b2d0434f563885805967548b3e10"
 },
 "nbformat": 3,
 "nbformat_minor": 0,
 "worksheets": [
  {
   "cells": [
    {
     "cell_type": "markdown",
     "metadata": {},
     "source": [
      "# Filip Wieland's Statlearn\n",
      "\n",
      "I have a love-hate relationship with statistics. I used to utterly despise the AQA S1 lessons that were a part of my A-level in Mathematics. I love to play with data and make pretty graphs though. I figured, why not try to learn statistics on my own terms - using real open data and proper statistical packages instead of little snippets of manufactured data and a Casio calculator?\n",
      "\n",
      "## What I'll be using\n",
      "\n",
      "* [Python 3.4](https://www.python.org/getit/)\n",
      "* [IPython 2.3](http://ipython.org/install.html)\n",
      "* [Matplotlib](http://matplotlib.org/)\n",
      "* [Pandas](http://pandas.pydata.org/)\n",
      "* [NumPy/SciPy](http://www.scipy.org/)\n",
      "\n",
      "Any extra modules added for specific notebooks will be explained."
     ]
    },
    {
     "cell_type": "heading",
     "level": 2,
     "metadata": {},
     "source": [
      "Basic imports"
     ]
    },
    {
     "cell_type": "code",
     "collapsed": false,
     "input": [
      "import numpy as np\n",
      "import pandas as pd"
     ],
     "language": "python",
     "metadata": {},
     "outputs": [],
     "prompt_number": 1
    },
    {
     "cell_type": "code",
     "collapsed": false,
     "input": [
      "%matplotlib inline"
     ],
     "language": "python",
     "metadata": {},
     "outputs": [],
     "prompt_number": 2
    },
    {
     "cell_type": "code",
     "collapsed": false,
     "input": [],
     "language": "python",
     "metadata": {},
     "outputs": []
    }
   ],
   "metadata": {}
  }
 ]
}